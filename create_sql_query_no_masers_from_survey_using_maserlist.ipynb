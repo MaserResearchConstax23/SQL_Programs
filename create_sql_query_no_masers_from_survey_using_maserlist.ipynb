{
 "cells": [
  {
   "attachments": {},
   "cell_type": "markdown",
   "metadata": {},
   "source": [
    "### Enter the headers and names of the of the tables"
   ]
  },
  {
   "cell_type": "code",
   "execution_count": null,
   "metadata": {},
   "outputs": [],
   "source": [
    "#name of the database to create with no masers\n",
    "target_dbname = 'MyDB.all_surveyed_no_maser_no_duplicates' \n",
    "\n",
    "#arcsec angular separation to assume that two objects in the different lists are the same object\n",
    "# Be sure to use floating point notation, and use a string.\n",
    "assume_same_object_radius = '5.0' \n",
    "\n",
    "## create a key-lookup table\n",
    "# Column identifiers for all_surveyed\n",
    "all_surveyed_dbname = 'all_surveyed_no_dupes_cleansed4x'\n",
    "\n",
    "all_surveyed_cols_ra = 'ra'                 #RA header\n",
    "all_surveyed_cols_dec = 'dec'               #DEC header\n",
    "all_surveyed_cols_uid = 'mcp_count'         # a unique ID for each row in all_surveyed\n",
    "\n",
    "\n",
    "# Column identifiers for masers\n",
    "masers_dbname = 'MCPMaser2020'\n",
    "\n",
    "masers_cols_ra = 'RA_(J2000)'               #RA header\n",
    "masers_cols_dec = 'Dec_(J2000)'             #DEC header\n",
    "\n",
    "\n",
    "print(f'''SELECT *\n",
    "FROM {all_surveyed_dbname} S\n",
    "WHERE \n",
    "    S.[{all_surveyed_cols_uid}] NOT IN (\n",
    "        SELECT S.[{all_surveyed_cols_uid}]\n",
    "        FROM {all_surveyed_dbname} S, {masers_dbname} M\n",
    "        WHERE\n",
    "        -- Small angular distance approximation\n",
    "        ({assume_same_object_radius}/3600.0) > ( SQRT((POWER( ( ( (S.[{all_surveyed_cols_ra}] * (PI()/180.0)) - (M.[{masers_cols_ra}] * (PI()/180.0)) )*( COS( (S.[{all_surveyed_cols_dec}] * (PI()/180.0)) )) ),2) )+(POWER(( (S.[{all_surveyed_cols_dec}] * (PI()/180.0)) - (M.[{masers_cols_dec}] * (PI()/180.0)) ),2))) ) * (180.0/PI())\n",
    "    )\n",
    "INTO {target_dbname}\n",
    "''')"
   ]
  }
 ],
 "metadata": {
  "kernelspec": {
   "display_name": "base",
   "language": "python",
   "name": "python3"
  },
  "language_info": {
   "codemirror_mode": {
    "name": "ipython",
    "version": 3
   },
   "file_extension": ".py",
   "mimetype": "text/x-python",
   "name": "python",
   "nbconvert_exporter": "python",
   "pygments_lexer": "ipython3",
   "version": "3.8.5"
  },
  "orig_nbformat": 4
 },
 "nbformat": 4,
 "nbformat_minor": 2
}
