{
 "cells": [
  {
   "attachments": {},
   "cell_type": "markdown",
   "metadata": {},
   "source": [
    "(C) 2023 Gaudeor Rudmin\n",
    "\n",
    "<if you edit this code, add your copyright statement here>\n",
    "\n",
    "MIT LICENSE\n",
    "\n",
    "Permission is hereby granted, free of charge, to any person obtaining a copy of this software and associated documentation files (the “Software”), to deal in the Software without restriction, including without limitation the rights to use, copy, modify, merge, publish, distribute, sublicense, and/or sell copies of the Software, and to permit persons to whom the Software is furnished to do so, subject to the following conditions:\n",
    "\n",
    "The above copyright notice and this permission notice shall be included in all copies or substantial portions of the Software.\n",
    "\n",
    "THE SOFTWARE IS PROVIDED “AS IS”, WITHOUT WARRANTY OF ANY KIND, EXPRESS OR IMPLIED, INCLUDING BUT NOT LIMITED TO THE WARRANTIES OF MERCHANTABILITY, FITNESS FOR A PARTICULAR PURPOSE AND NONINFRINGEMENT. IN NO EVENT SHALL THE AUTHORS OR COPYRIGHT HOLDERS BE LIABLE FOR ANY CLAIM, DAMAGES OR OTHER LIABILITY, WHETHER IN AN ACTION OF CONTRACT, TORT OR OTHERWISE, ARISING FROM, OUT OF OR IN CONNECTION WITH THE SOFTWARE OR THE USE OR OTHER DEALINGS IN THE SOFTWARE."
   ]
  },
  {
   "attachments": {},
   "cell_type": "markdown",
   "metadata": {},
   "source": [
    "### Enter the headers and names of the of the tables"
   ]
  },
  {
   "cell_type": "code",
   "execution_count": 16,
   "metadata": {},
   "outputs": [
    {
     "name": "stdout",
     "output_type": "stream",
     "text": [
      "SELECT *\n",
      "FROM all_surveyed_no_dupes_cleansed4x S\n",
      "WHERE \n",
      "    S.[mcp_count] IN (\n",
      "        SELECT S.[mcp_count]\n",
      "        FROM all_surveyed_no_dupes_cleansed4x S, MCPMaser2020 M\n",
      "        WHERE\n",
      "        -- Small angular distance approximation\n",
      "        (6.0/3600.0) > ( SQRT((POWER( ( ( (S.[ra] * (PI()/180.0)) - (M.[RA_(J2000)] * (PI()/180.0)) )*( COS( (S.[dec] * (PI()/180.0)) )) ),2) )+(POWER(( (S.[dec] * (PI()/180.0)) - (M.[Dec_(J2000)] * (PI()/180.0)) ),2))) ) * (180.0/PI())\n",
      "    )\n",
      "\n"
     ]
    }
   ],
   "source": [
    "#####    CUSTOMISATION    ######\n",
    "just_show = True # if True, only selects (which displays results on the SQL page)\n",
    "select_no_masers = False ## if True, saves non-masers\n",
    "\n",
    "#name of the database to create with no masers\n",
    "target_dbname = 'MyDB.all_surveyed_no_maser_no_duplicates' \n",
    "\n",
    "\n",
    "#arcsec angular separation to assume that two objects in the different lists are the same object\n",
    "# Be sure to use floating point notation, and use a string.\n",
    "assume_same_object_radius = '6.0' \n",
    "\n",
    "## create a key-lookup table\n",
    "# Column identifiers for all_surveyed\n",
    "all_surveyed_dbname = 'all_surveyed_no_dupes_cleansed4x'\n",
    "\n",
    "all_surveyed_cols_ra = 'ra'                 #RA header\n",
    "all_surveyed_cols_dec = 'dec'               #DEC header\n",
    "all_surveyed_cols_uid = 'mcp_count'         # a unique ID for each row in all_surveyed\n",
    "\n",
    "\n",
    "# Column identifiers for masers\n",
    "masers_dbname = 'MCPMaser2020'\n",
    "\n",
    "masers_cols_ra = 'RA_(J2000)'               #RA header\n",
    "masers_cols_dec = 'Dec_(J2000)'             #DEC header\n",
    "\n",
    "#####    /CUSTOMISATION/    ######\n",
    "\n",
    "\n",
    "dowhat = f'''\n",
    "INTO {target_dbname}'''\n",
    "if just_show:\n",
    "    dowhat = \"\"\n",
    "\n",
    "selection = \"IN\"\n",
    "if select_no_masers:\n",
    "    selection = \"NOT IN\"\n",
    "\n",
    "print(f'''SELECT *\n",
    "FROM {all_surveyed_dbname} S\n",
    "WHERE \n",
    "    S.[{all_surveyed_cols_uid}] {selection} (\n",
    "        SELECT S.[{all_surveyed_cols_uid}]\n",
    "        FROM {all_surveyed_dbname} S, {masers_dbname} M\n",
    "        WHERE\n",
    "        -- Small angular distance approximation\n",
    "        ({assume_same_object_radius}/3600.0) > ( SQRT((POWER( ( ( (S.[{all_surveyed_cols_ra}] * (PI()/180.0)) - (M.[{masers_cols_ra}] * (PI()/180.0)) )*( COS( (S.[{all_surveyed_cols_dec}] * (PI()/180.0)) )) ),2) )+(POWER(( (S.[{all_surveyed_cols_dec}] * (PI()/180.0)) - (M.[{masers_cols_dec}] * (PI()/180.0)) ),2))) ) * (180.0/PI())\n",
    "    ){dowhat}\n",
    "''')"
   ]
  },
  {
   "cell_type": "code",
   "execution_count": null,
   "metadata": {},
   "outputs": [],
   "source": []
  }
 ],
 "metadata": {
  "kernelspec": {
   "display_name": "base",
   "language": "python",
   "name": "python3"
  },
  "language_info": {
   "codemirror_mode": {
    "name": "ipython",
    "version": 3
   },
   "file_extension": ".py",
   "mimetype": "text/x-python",
   "name": "python",
   "nbconvert_exporter": "python",
   "pygments_lexer": "ipython3",
   "version": "3.8.5"
  },
  "orig_nbformat": 4
 },
 "nbformat": 4,
 "nbformat_minor": 2
}
